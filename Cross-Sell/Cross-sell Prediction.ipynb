{
 "cells": [
  {
   "cell_type": "code",
   "execution_count": 1,
   "metadata": {},
   "outputs": [],
   "source": [
    "import numpy as np, pandas as pd, seaborn as sns\n",
    "from matplotlib import pyplot as plt\n",
    "%matplotlib inline\n",
    "from sklearn.model_selection import train_test_split\n",
    "from sklearn import metrics\n",
    "from sklearn.metrics import accuracy_score"
   ]
  },
  {
   "cell_type": "code",
   "execution_count": 2,
   "metadata": {},
   "outputs": [
    {
     "data": {
      "text/plain": [
       "(304887, 10)"
      ]
     },
     "execution_count": 2,
     "metadata": {},
     "output_type": "execute_result"
    }
   ],
   "source": [
    "X = pd.read_csv('train.csv', index_col='id')\n",
    "X_test = pd.read_csv('test.csv', index_col='id')\n",
    "\n",
    "X.dropna(axis=0, subset=['Response'], inplace=True)\n",
    "y = X.Response              \n",
    "X.drop(['Response'], axis=1, inplace=True)\n",
    "\n",
    "X_train, X_valid, y_train, y_valid = train_test_split(X, y, train_size=0.8, test_size=0.2,\n",
    "                                                                random_state=0)\n",
    "\n",
    "low_cardinality_cols = [cname for cname in X_train.columns if X_train[cname].nunique() < 10 and \n",
    "                        X_train[cname].dtype == \"object\"]\n",
    "\n",
    "numeric_cols = [cname for cname in X_train.columns if X_train[cname].dtype in ['int64', 'float64']]\n",
    "\n",
    "my_cols = low_cardinality_cols + numeric_cols\n",
    "X_train = X_train[my_cols].copy()\n",
    "X_valid = X_valid[my_cols].copy()\n",
    "X_test = X_test[my_cols].copy()\n",
    "X_train.shape"
   ]
  },
  {
   "cell_type": "code",
   "execution_count": 3,
   "metadata": {},
   "outputs": [],
   "source": [
    "from sklearn.preprocessing import LabelEncoder\n",
    "\n",
    "cols = ['Gender', 'Vehicle_Age','Vehicle_Damage']\n",
    "\n",
    "label = LabelEncoder()\n",
    "for col in cols:\n",
    "    X_train[col] = label.fit_transform(X_train[col])\n",
    "    X_valid[col] = label.transform(X_valid[col])\n",
    "    X_test[col] = label.transform(X_test[col])"
   ]
  },
  {
   "cell_type": "code",
   "execution_count": 4,
   "metadata": {},
   "outputs": [],
   "source": [
    "X_train.drop(['Region_Code', 'Vintage'], axis = 1, inplace = True)\n",
    "X_valid.drop(['Region_Code', 'Vintage'], axis = 1, inplace = True)\n",
    "X_test.drop(['Region_Code', 'Vintage'], axis = 1, inplace = True)"
   ]
  },
  {
   "cell_type": "code",
   "execution_count": 5,
   "metadata": {
    "scrolled": true
   },
   "outputs": [
    {
     "name": "stdout",
     "output_type": "stream",
     "text": [
      "Validation AUC score: 0.50214640\n"
     ]
    }
   ],
   "source": [
    "from xgboost import XGBClassifier\n",
    "from sklearn.model_selection import StratifiedKFold, GridSearchCV\n",
    "\n",
    "my_model = XGBClassifier(n_estimators=900, learning_rate = 0.05)\n",
    "my_model.fit(X_train,y_train)\n",
    "    \n",
    "preds_valid = my_model.predict(X_valid)\n",
    "valid_score = metrics.roc_auc_score(y_valid, preds_valid)\n",
    "print(f\"Validation AUC score: {valid_score:.8f}\")"
   ]
  },
  {
   "cell_type": "code",
   "execution_count": 6,
   "metadata": {},
   "outputs": [
    {
     "name": "stdout",
     "output_type": "stream",
     "text": [
      "Validation AUC score: 0.50214640\n"
     ]
    }
   ],
   "source": [
    "for i in range(len(preds_valid)):\n",
    "    if preds_valid[i]>0.5:\n",
    "        preds_valid[i]=1\n",
    "    else:\n",
    "        preds_valid[i]=0\n",
    "valid_score = metrics.roc_auc_score(y_valid, preds_valid)\n",
    "print(f\"Validation AUC score: {valid_score:.8f}\")"
   ]
  },
  {
   "cell_type": "code",
   "execution_count": 6,
   "metadata": {},
   "outputs": [],
   "source": [
    "preds_test = my_model.predict(X_test)\n",
    "\n",
    "output = pd.DataFrame({'id': X_test.index,\n",
    "                       'Response': preds_test})\n",
    "output.to_csv('sample_submission_iA3afxn.csv', index=False)"
   ]
  }
 ],
 "metadata": {
  "kernelspec": {
   "display_name": "Python 3",
   "language": "python",
   "name": "python3"
  },
  "language_info": {
   "codemirror_mode": {
    "name": "ipython",
    "version": 3
   },
   "file_extension": ".py",
   "mimetype": "text/x-python",
   "name": "python",
   "nbconvert_exporter": "python",
   "pygments_lexer": "ipython3",
   "version": "3.7.4"
  }
 },
 "nbformat": 4,
 "nbformat_minor": 2
}
